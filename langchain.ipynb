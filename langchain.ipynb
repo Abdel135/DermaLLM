{
  "nbformat": 4,
  "nbformat_minor": 0,
  "metadata": {
    "colab": {
      "provenance": []
    },
    "kernelspec": {
      "name": "python3",
      "display_name": "Python 3"
    },
    "language_info": {
      "name": "python"
    }
  },
  "cells": [
    {
      "cell_type": "code",
      "execution_count": null,
      "metadata": {
        "id": "lB6uAfv3Z9m7"
      },
      "outputs": [],
      "source": [
        "pip install langchain openai chromadb tiktoken unstructured pypdf"
      ]
    },
    {
      "cell_type": "code",
      "source": [
        "import os\n",
        "import sys\n",
        "\n",
        "import openai\n",
        "from langchain.chains import ConversationalRetrievalChain, RetrievalQA\n",
        "from langchain.chat_models import ChatOpenAI\n",
        "from langchain.document_loaders import DirectoryLoader, TextLoader\n",
        "from langchain.embeddings import OpenAIEmbeddings\n",
        "from langchain.indexes import VectorstoreIndexCreator\n",
        "from langchain.indexes.vectorstore import VectorStoreIndexWrapper\n",
        "from langchain.llms import OpenAI\n",
        "from langchain.vectorstores import Chroma\n",
        "from langchain.document_loaders import PyPDFLoader\n",
        "\n",
        "import constants\n",
        "\n",
        "os.environ[\"OPENAI_API_KEY\"] = constants.APIKEY\n",
        "\n",
        "# Enable to save to disk & reuse the model (for repeated queries on the same data)\n",
        "PERSIST = False\n",
        "\n",
        "query = None\n",
        "if len(sys.argv) > 1:\n",
        "  query = sys.argv[1]\n",
        "\n",
        "if PERSIST and os.path.exists(\"persist\"):\n",
        "  print(\"Reusing index...\\n\")\n",
        "  vectorstore = Chroma(persist_directory=\"persist\", embedding_function=OpenAIEmbeddings())\n",
        "  index = VectorStoreIndexWrapper(vectorstore=vectorstore)\n",
        "else:\n",
        "\n",
        "  loader = TextLoader(\"resume.txt\") # Use this line if you only need data.txt\n",
        "  # loader = DirectoryLoader(\"data/\")\n",
        "  # loader = PyPDFLoader(\"CV.pdf\")\n",
        "\n",
        "\n",
        "  if PERSIST:\n",
        "    index = VectorstoreIndexCreator(vectorstore_kwargs={\"persist_directory\":\"persist\"}).from_loaders([loader])\n",
        "  else:\n",
        "    index = VectorstoreIndexCreator().from_loaders([loader])\n",
        "\n",
        "chain = ConversationalRetrievalChain.from_llm(\n",
        "  llm=ChatOpenAI(model=\"gpt-3.5-turbo\"),\n",
        "  retriever=index.vectorstore.as_retriever(search_kwargs={\"k\": 1}),\n",
        ")\n",
        "\n",
        "chat_history = []\n",
        "while True:\n",
        "  if not query:\n",
        "    query = input(\"Prompt: \")\n",
        "  if query in ['quit', 'q', 'exit']:\n",
        "    sys.exit()\n",
        "  result = chain({\"question\": query, \"chat_history\": chat_history})\n",
        "  print(\"AI:\",result['answer'])\n",
        "\n",
        "  chat_history.append((query, result['answer']))\n",
        "  query = None"
      ],
      "metadata": {
        "id": "gGUIeDyOexS-",
        "colab": {
          "base_uri": "https://localhost:8080/",
          "height": 682
        },
        "outputId": "65059897-500e-4c02-87a5-8c28bed775b0"
      },
      "execution_count": 8,
      "outputs": [
        {
          "output_type": "stream",
          "name": "stdout",
          "text": [
            "AI: I'm sorry, but it seems like your message got cut off. Could you please provide more information or rephrase your question?\n",
            "Prompt: quel sont mes diplomes ?\n",
            "AI: Vous avez obtenu une licence en informatique à l'Université Sorbonne Paris Nord et vous êtes actuellement en train de poursuivre un Master en Data Science (mention Bien) à la même université.\n",
            "Prompt: quelles sont mes competences sous formes des puces \n",
            "AI: - Gestion des données des maladies chroniques (nettoyage, profilage, fusion et génération de rapports)\n",
            "- Analyse exploratoire et classification de la faillite des entreprises avec l'apprentissage supervisé\n",
            "- Système décentralisé de transfert de fichier (p2p file sharing)\n",
            "- Mini compilateur de JavaScript avec ocaml (de .js à .asm)\n",
            "- Système de sécurité et de surveillance avec la Raspberry pi (IoT)\n",
            "- Langues étrangères: Anglais (niveau B2), Russe (niveau A1), Arabe (niveau C1)\n",
            "- Compléter et implémenter les projets de programmation pour les étudiants de la licence informatique\n",
            "- Tutorat en maths et programmation C\n",
            "- Expérience en freelance\n",
            "- Expérience en tant que tuteur à l'Université Sorbonne Paris Nord (septembre 2020 - mai 2021)\n"
          ]
        },
        {
          "output_type": "error",
          "ename": "KeyboardInterrupt",
          "evalue": "ignored",
          "traceback": [
            "\u001b[0;31m---------------------------------------------------------------------------\u001b[0m",
            "\u001b[0;31mKeyboardInterrupt\u001b[0m                         Traceback (most recent call last)",
            "\u001b[0;32m<ipython-input-8-7353e95d1df4>\u001b[0m in \u001b[0;36m<cell line: 48>\u001b[0;34m()\u001b[0m\n\u001b[1;32m     48\u001b[0m \u001b[0;32mwhile\u001b[0m \u001b[0;32mTrue\u001b[0m\u001b[0;34m:\u001b[0m\u001b[0;34m\u001b[0m\u001b[0;34m\u001b[0m\u001b[0m\n\u001b[1;32m     49\u001b[0m   \u001b[0;32mif\u001b[0m \u001b[0;32mnot\u001b[0m \u001b[0mquery\u001b[0m\u001b[0;34m:\u001b[0m\u001b[0;34m\u001b[0m\u001b[0;34m\u001b[0m\u001b[0m\n\u001b[0;32m---> 50\u001b[0;31m     \u001b[0mquery\u001b[0m \u001b[0;34m=\u001b[0m \u001b[0minput\u001b[0m\u001b[0;34m(\u001b[0m\u001b[0;34m\"Prompt: \"\u001b[0m\u001b[0;34m)\u001b[0m\u001b[0;34m\u001b[0m\u001b[0;34m\u001b[0m\u001b[0m\n\u001b[0m\u001b[1;32m     51\u001b[0m   \u001b[0;32mif\u001b[0m \u001b[0mquery\u001b[0m \u001b[0;32min\u001b[0m \u001b[0;34m[\u001b[0m\u001b[0;34m'quit'\u001b[0m\u001b[0;34m,\u001b[0m \u001b[0;34m'q'\u001b[0m\u001b[0;34m,\u001b[0m \u001b[0;34m'exit'\u001b[0m\u001b[0;34m]\u001b[0m\u001b[0;34m:\u001b[0m\u001b[0;34m\u001b[0m\u001b[0;34m\u001b[0m\u001b[0m\n\u001b[1;32m     52\u001b[0m     \u001b[0msys\u001b[0m\u001b[0;34m.\u001b[0m\u001b[0mexit\u001b[0m\u001b[0;34m(\u001b[0m\u001b[0;34m)\u001b[0m\u001b[0;34m\u001b[0m\u001b[0;34m\u001b[0m\u001b[0m\n",
            "\u001b[0;32m/usr/local/lib/python3.10/dist-packages/ipykernel/kernelbase.py\u001b[0m in \u001b[0;36mraw_input\u001b[0;34m(self, prompt)\u001b[0m\n\u001b[1;32m    849\u001b[0m                 \u001b[0;34m\"raw_input was called, but this frontend does not support input requests.\"\u001b[0m\u001b[0;34m\u001b[0m\u001b[0;34m\u001b[0m\u001b[0m\n\u001b[1;32m    850\u001b[0m             )\n\u001b[0;32m--> 851\u001b[0;31m         return self._input_request(str(prompt),\n\u001b[0m\u001b[1;32m    852\u001b[0m             \u001b[0mself\u001b[0m\u001b[0;34m.\u001b[0m\u001b[0m_parent_ident\u001b[0m\u001b[0;34m,\u001b[0m\u001b[0;34m\u001b[0m\u001b[0;34m\u001b[0m\u001b[0m\n\u001b[1;32m    853\u001b[0m             \u001b[0mself\u001b[0m\u001b[0;34m.\u001b[0m\u001b[0m_parent_header\u001b[0m\u001b[0;34m,\u001b[0m\u001b[0;34m\u001b[0m\u001b[0;34m\u001b[0m\u001b[0m\n",
            "\u001b[0;32m/usr/local/lib/python3.10/dist-packages/ipykernel/kernelbase.py\u001b[0m in \u001b[0;36m_input_request\u001b[0;34m(self, prompt, ident, parent, password)\u001b[0m\n\u001b[1;32m    893\u001b[0m             \u001b[0;32mexcept\u001b[0m \u001b[0mKeyboardInterrupt\u001b[0m\u001b[0;34m:\u001b[0m\u001b[0;34m\u001b[0m\u001b[0;34m\u001b[0m\u001b[0m\n\u001b[1;32m    894\u001b[0m                 \u001b[0;31m# re-raise KeyboardInterrupt, to truncate traceback\u001b[0m\u001b[0;34m\u001b[0m\u001b[0;34m\u001b[0m\u001b[0m\n\u001b[0;32m--> 895\u001b[0;31m                 \u001b[0;32mraise\u001b[0m \u001b[0mKeyboardInterrupt\u001b[0m\u001b[0;34m(\u001b[0m\u001b[0;34m\"Interrupted by user\"\u001b[0m\u001b[0;34m)\u001b[0m \u001b[0;32mfrom\u001b[0m \u001b[0;32mNone\u001b[0m\u001b[0;34m\u001b[0m\u001b[0;34m\u001b[0m\u001b[0m\n\u001b[0m\u001b[1;32m    896\u001b[0m             \u001b[0;32mexcept\u001b[0m \u001b[0mException\u001b[0m \u001b[0;32mas\u001b[0m \u001b[0me\u001b[0m\u001b[0;34m:\u001b[0m\u001b[0;34m\u001b[0m\u001b[0;34m\u001b[0m\u001b[0m\n\u001b[1;32m    897\u001b[0m                 \u001b[0mself\u001b[0m\u001b[0;34m.\u001b[0m\u001b[0mlog\u001b[0m\u001b[0;34m.\u001b[0m\u001b[0mwarning\u001b[0m\u001b[0;34m(\u001b[0m\u001b[0;34m\"Invalid Message:\"\u001b[0m\u001b[0;34m,\u001b[0m \u001b[0mexc_info\u001b[0m\u001b[0;34m=\u001b[0m\u001b[0;32mTrue\u001b[0m\u001b[0;34m)\u001b[0m\u001b[0;34m\u001b[0m\u001b[0;34m\u001b[0m\u001b[0m\n",
            "\u001b[0;31mKeyboardInterrupt\u001b[0m: Interrupted by user"
          ]
        }
      ]
    }
  ]
}